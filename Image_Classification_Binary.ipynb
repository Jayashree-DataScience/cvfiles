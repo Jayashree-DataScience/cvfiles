{
  "nbformat": 4,
  "nbformat_minor": 0,
  "metadata": {
    "colab": {
      "provenance": [],
      "mount_file_id": "1MmdePiDuNAXpAI7PDJIkSll2kmvPjnTo",
      "authorship_tag": "ABX9TyO/Twqmj90c7QRUrnsofigu",
      "include_colab_link": true
    },
    "kernelspec": {
      "name": "python3",
      "display_name": "Python 3"
    },
    "language_info": {
      "name": "python"
    }
  },
  "cells": [
    {
      "cell_type": "markdown",
      "metadata": {
        "id": "view-in-github",
        "colab_type": "text"
      },
      "source": [
        "<a href=\"https://colab.research.google.com/github/Jayashree-DataScience/cvfiles/blob/main/Image_Classification_Binary.ipynb\" target=\"_parent\"><img src=\"https://colab.research.google.com/assets/colab-badge.svg\" alt=\"Open In Colab\"/></a>"
      ]
    },
    {
      "cell_type": "code",
      "source": [
        "import os\n",
        "import pathlib\n",
        "\n",
        "import glob\n",
        "import numpy as np\n",
        "from sklearn.model_selection import train_test_split\n",
        "\n",
        "\n",
        "\n"
      ],
      "metadata": {
        "id": "B6SmXWwC1XUm"
      },
      "execution_count": 1,
      "outputs": []
    },
    {
      "cell_type": "code",
      "source": [
        "from tensorflow.keras import Model\n",
        "from tensorflow.keras.layers import *\n",
        "from tensorflow.keras.preprocessing.image import *"
      ],
      "metadata": {
        "id": "lLy2nY4c2a3h"
      },
      "execution_count": 3,
      "outputs": []
    },
    {
      "cell_type": "code",
      "source": [
        "def load_images_and_labels(image_paths):\n",
        "    images = []\n",
        "    labels = []\n",
        "\n",
        "    for image_path in image_paths:\n",
        "        image = load_img(image_path, target_size=(32, 32),\n",
        "                         color_mode='grayscale')\n",
        "        image = img_to_array(image)\n",
        "\n",
        "        label = image_path.split(os.path.sep)[-2]\n",
        "        label = 'positive' in label\n",
        "        label = float(label)\n",
        "\n",
        "        images.append(image)\n",
        "        labels.append(label)\n",
        "\n",
        "    return np.array(images), np.array(labels)\n",
        "\n"
      ],
      "metadata": {
        "id": "2w-xBIRw2PdI"
      },
      "execution_count": 4,
      "outputs": []
    },
    {
      "cell_type": "code",
      "source": [
        "\n",
        "def build_network():\n",
        "    input_layer = Input(shape=(32, 32, 1))\n",
        "    x = Conv2D(filters=20,\n",
        "               kernel_size=(5, 5),\n",
        "               padding='same',\n",
        "               strides=(1, 1))(input_layer)\n",
        "    x = ELU()(x) #What is Elu in neural network?\n",
        "#Image result for elu deep learning\n",
        "#The Exponential Linear Unit (ELU) is an activation function for neural networks. In contrast to ReLUs, ELUs have negative values which allows them to push mean unit activations closer to zero like batch normalization but with lower computational complexity.*/\n",
        "    x = BatchNormalization()(x)\n",
        "    x = MaxPooling2D(pool_size=(2, 2),\n",
        "                     strides=(2, 2))(x)\n",
        "    x = Dropout(0.4)(x)\n",
        "\n",
        "    x = Conv2D(filters=50,\n",
        "               kernel_size=(5, 5),\n",
        "               padding='same',\n",
        "               strides=(1, 1))(x)\n",
        "    x = ELU()(x)\n",
        "    x = BatchNormalization()(x)\n",
        "    x = MaxPooling2D(pool_size=(2, 2),\n",
        "                     strides=(2, 2))(x)\n",
        "    x = Dropout(0.4)(x)\n",
        "\n",
        "    x = Flatten()(x)\n",
        "    x = Dense(units=500)(x)\n",
        "    x = ELU()(x)\n",
        "    x = Dropout(0.4)(x)\n",
        "\n",
        "    output = Dense(1, activation='sigmoid')(x)\n",
        "\n",
        "    model = Model(inputs=input_layer, outputs=output)\n",
        "    return model\n",
        "\n",
        "\n",
        "\n",
        "\n"
      ],
      "metadata": {
        "id": "q5a7Q92M1HKn"
      },
      "execution_count": 5,
      "outputs": []
    },
    {
      "cell_type": "code",
      "source": [
        "#files_pattern = ('content'/'drive'/'MyDrive'/'keras-datasets'/'SMILEs' / '*' / '*' / '*.jpg')\n",
        "files_pattern = ('/content/drive/MyDrive/keras-datasets/SMILEs/*/*/*.jpg')\n",
        "files_pattern = str(files_pattern)\n",
        "dataset_paths = [*glob.glob(files_pattern)]\n",
        "\n",
        "X, y = load_images_and_labels(dataset_paths)"
      ],
      "metadata": {
        "id": "E4rqpyow_Pwg"
      },
      "execution_count": 6,
      "outputs": []
    },
    {
      "cell_type": "code",
      "source": [
        "X /= 255.0\n",
        "total = len(y)\n",
        "total_positive = np.sum(y)\n",
        "total_negative = total - total_positive\n",
        "print(f'Total images: {total}')\n",
        "print(f'Smile images: {total_positive}')\n",
        "print(f'Non-smile images: {total_negative}')\n",
        "\n"
      ],
      "metadata": {
        "colab": {
          "base_uri": "https://localhost:8080/"
        },
        "id": "LArIHIWK9Ala",
        "outputId": "776bd3d2-c2d3-40e9-9953-41da1477ef22"
      },
      "execution_count": 7,
      "outputs": [
        {
          "output_type": "stream",
          "name": "stdout",
          "text": [
            "Total images: 13158\n",
            "Smile images: 3690.0\n",
            "Non-smile images: 9468.0\n"
          ]
        }
      ]
    },
    {
      "cell_type": "code",
      "source": [
        "(X_train, X_test,\n",
        " y_train, y_test) = train_test_split(X, y,\n",
        "                                     test_size=0.2,\n",
        "                                     stratify=y,\n",
        "                                     random_state=999)\n",
        "(X_train, X_val,\n",
        " y_train, y_val) = train_test_split(X_train, y_train,\n",
        "                                    test_size=0.2,\n",
        "                                    stratify=y_train,\n",
        "                                     random_state=999)\n",
        "                                   \n",
        "\n",
        "model = build_network()\n",
        "model.compile(loss='binary_crossentropy',\n",
        "              optimizer='rmsprop',\n",
        "              metrics=['accuracy'])\n",
        "\n",
        "BATCH_SIZE = 32\n",
        "EPOCHS = 20\n",
        "model.fit(X_train, y_train,\n",
        "          validation_data=(X_val, y_val),\n",
        "          epochs=EPOCHS,\n",
        "          batch_size=BATCH_SIZE,\n",
        "          class_weight={\n",
        "              1.0: total / total_positive,\n",
        "              0.0: total / total_negative\n",
        "          })\n",
        "test_loss, test_accuracy = model.evaluate(X_test, y_test)\n",
        "print(f'Loss: {test_loss}, accuracy: {test_accuracy}')"
      ],
      "metadata": {
        "colab": {
          "base_uri": "https://localhost:8080/"
        },
        "id": "RRC73WOg9Ilg",
        "outputId": "df2d33d6-9701-48ef-966f-cbc9121e2581"
      },
      "execution_count": 8,
      "outputs": [
        {
          "output_type": "stream",
          "name": "stdout",
          "text": [
            "Epoch 1/20\n",
            "264/264 [==============================] - 31s 114ms/step - loss: 1.9087 - accuracy: 0.7379 - val_loss: 2.6272 - val_accuracy: 0.5024\n",
            "Epoch 2/20\n",
            "264/264 [==============================] - 30s 113ms/step - loss: 0.9776 - accuracy: 0.8227 - val_loss: 0.4581 - val_accuracy: 0.8637\n",
            "Epoch 3/20\n",
            "264/264 [==============================] - 34s 130ms/step - loss: 0.8473 - accuracy: 0.8425 - val_loss: 0.3105 - val_accuracy: 0.8737\n",
            "Epoch 4/20\n",
            "264/264 [==============================] - 30s 114ms/step - loss: 0.7603 - accuracy: 0.8533 - val_loss: 0.2837 - val_accuracy: 0.8884\n",
            "Epoch 5/20\n",
            "264/264 [==============================] - 30s 114ms/step - loss: 0.6788 - accuracy: 0.8694 - val_loss: 0.2856 - val_accuracy: 0.8818\n",
            "Epoch 6/20\n",
            "264/264 [==============================] - 30s 113ms/step - loss: 0.6144 - accuracy: 0.8806 - val_loss: 0.3059 - val_accuracy: 0.8727\n",
            "Epoch 7/20\n",
            "264/264 [==============================] - 30s 113ms/step - loss: 0.5951 - accuracy: 0.8884 - val_loss: 0.2159 - val_accuracy: 0.9240\n",
            "Epoch 8/20\n",
            "264/264 [==============================] - 30s 114ms/step - loss: 0.5604 - accuracy: 0.8900 - val_loss: 0.2979 - val_accuracy: 0.9098\n",
            "Epoch 9/20\n",
            "264/264 [==============================] - 30s 114ms/step - loss: 0.5340 - accuracy: 0.8937 - val_loss: 0.2157 - val_accuracy: 0.9136\n",
            "Epoch 10/20\n",
            "264/264 [==============================] - 30s 113ms/step - loss: 0.5089 - accuracy: 0.9080 - val_loss: 0.2657 - val_accuracy: 0.9084\n",
            "Epoch 11/20\n",
            "264/264 [==============================] - 30s 113ms/step - loss: 0.5021 - accuracy: 0.9074 - val_loss: 0.2910 - val_accuracy: 0.8770\n",
            "Epoch 12/20\n",
            "264/264 [==============================] - 34s 129ms/step - loss: 0.4954 - accuracy: 0.9033 - val_loss: 0.2160 - val_accuracy: 0.9207\n",
            "Epoch 13/20\n",
            "264/264 [==============================] - 30s 113ms/step - loss: 0.4774 - accuracy: 0.9127 - val_loss: 0.2283 - val_accuracy: 0.9164\n",
            "Epoch 14/20\n",
            "264/264 [==============================] - 30s 113ms/step - loss: 0.4432 - accuracy: 0.9148 - val_loss: 0.2557 - val_accuracy: 0.9193\n",
            "Epoch 15/20\n",
            "264/264 [==============================] - 30s 113ms/step - loss: 0.4480 - accuracy: 0.9152 - val_loss: 0.2073 - val_accuracy: 0.9221\n",
            "Epoch 16/20\n",
            "264/264 [==============================] - 30s 113ms/step - loss: 0.4153 - accuracy: 0.9227 - val_loss: 0.2711 - val_accuracy: 0.9179\n",
            "Epoch 17/20\n",
            "264/264 [==============================] - 30s 113ms/step - loss: 0.4221 - accuracy: 0.9233 - val_loss: 0.4600 - val_accuracy: 0.9027\n",
            "Epoch 18/20\n",
            "264/264 [==============================] - 30s 114ms/step - loss: 0.4150 - accuracy: 0.9208 - val_loss: 0.2335 - val_accuracy: 0.9198\n",
            "Epoch 19/20\n",
            "264/264 [==============================] - 30s 114ms/step - loss: 0.3798 - accuracy: 0.9290 - val_loss: 0.2126 - val_accuracy: 0.9217\n",
            "Epoch 20/20\n",
            "264/264 [==============================] - 30s 114ms/step - loss: 0.3948 - accuracy: 0.9243 - val_loss: 0.3382 - val_accuracy: 0.8860\n",
            "83/83 [==============================] - 2s 29ms/step - loss: 0.4160 - accuracy: 0.8731\n",
            "Loss: 0.41601163148880005, accuracy: 0.8731002807617188\n"
          ]
        }
      ]
    },
    {
      "cell_type": "code",
      "source": [],
      "metadata": {
        "id": "1NmSLxdUCrZd"
      },
      "execution_count": null,
      "outputs": []
    }
  ]
}